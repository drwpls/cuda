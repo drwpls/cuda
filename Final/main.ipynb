{
  "cells": [
    {
      "cell_type": "markdown",
      "metadata": {
        "colab_type": "text",
        "id": "view-in-github"
      },
      "source": [
        "<a href=\"https://colab.research.google.com/github/drwpls/cuda/blob/main/Final/main.ipynb\" target=\"_parent\"><img src=\"https://colab.research.google.com/assets/colab-badge.svg\" alt=\"Open In Colab\"/></a>"
      ]
    },
    {
      "cell_type": "markdown",
      "metadata": {
        "id": "15YRj_DFjmBF"
      },
      "source": [
        "Nhóm sinh viên:\n",
        "1. Phan Lộc Sơn - 19120033\n",
        "2. Nguyễn Xuân Vỵ - 19120732\n",
        "3. Võ Song Nguyên - "
      ]
    },
    {
      "cell_type": "markdown",
      "metadata": {
        "id": "P74PMZaGjtxs"
      },
      "source": [
        "# Final: Song song hoá Seam carving"
      ]
    },
    {
      "cell_type": "markdown",
      "metadata": {
        "id": "bAlUh3XFj0zM"
      },
      "source": [
        "GET GPU's capability:"
      ]
    },
    {
      "cell_type": "code",
      "execution_count": 1,
      "metadata": {
        "id": "Mqm-_4zmjePG"
      },
      "outputs": [
        {
          "ename": "ModuleNotFoundError",
          "evalue": "No module named 'numba'",
          "output_type": "error",
          "traceback": [
            "\u001b[0;31m---------------------------------------------------------------------------\u001b[0m",
            "\u001b[0;31mModuleNotFoundError\u001b[0m                       Traceback (most recent call last)",
            "Cell \u001b[0;32mIn[1], line 1\u001b[0m\n\u001b[0;32m----> 1\u001b[0m \u001b[39mfrom\u001b[39;00m \u001b[39mnumba\u001b[39;00m \u001b[39mimport\u001b[39;00m cuda\n\u001b[1;32m      2\u001b[0m major, minor \u001b[39m=\u001b[39m cuda\u001b[39m.\u001b[39mget_current_device()\u001b[39m.\u001b[39mcompute_capability\n\u001b[1;32m      3\u001b[0m \u001b[39mprint\u001b[39m(\u001b[39mf\u001b[39m\u001b[39m'\u001b[39m\u001b[39mGPU compute capability: \u001b[39m\u001b[39m{\u001b[39;00mmajor\u001b[39m}\u001b[39;00m\u001b[39m.\u001b[39m\u001b[39m{\u001b[39;00mminor\u001b[39m}\u001b[39;00m\u001b[39m'\u001b[39m)\n",
            "\u001b[0;31mModuleNotFoundError\u001b[0m: No module named 'numba'"
          ]
        }
      ],
      "source": [
        "from numba import cuda\n",
        "major, minor = cuda.get_current_device().compute_capability\n",
        "print(f'GPU compute capability: {major}.{minor}')"
      ]
    },
    {
      "cell_type": "code",
      "execution_count": 6,
      "metadata": {
        "id": "3bKnsXQlJfKi"
      },
      "outputs": [],
      "source": [
        "# Đoạn code Python để hiển thị file ảnh pnm ở notebook\n",
        "# Ví dụ để hiển thị file \"img.pnm\", ở dòng cuối của code cell\n",
        "# bạn gõ (không cần dấu ! đằng trước): show_pnm('img.pnm')\n",
        "# LƯU Ý: bạn phải chạy cell này một lần thì mới gọi được hàm show_pnm\n",
        "from PIL import Image\n",
        "import numpy as np\n",
        "def show_pnm(file_name):\n",
        "  with open(file_name, 'r') as f:\n",
        "    vals = f.read().split()\n",
        "  w = int(vals[1])\n",
        "  h = int(vals[2])\n",
        "  if vals[0] == 'P2': # Grayscale\n",
        "    pixels = np.array(vals[4:], dtype=np.uint8).reshape((h, w))\n",
        "  elif vals[0] == 'P3': # RGB\n",
        "    pixels = np.array(vals[4:], dtype=np.uint8).reshape((h, w, 3))\n",
        "  else:\n",
        "    return None\n",
        "  \n",
        "  return Image.fromarray(pixels)\n",
        "\n",
        "# Đoạn code Python để hiển thị file chứa ma trận ở notebook\n",
        "# (một dòng của ma trận ứng với một dòng trong file, \n",
        "# các phần tử trên mỗi dòng được cách nhau bởi khoảng trắng) \n",
        "# Ví dụ để hiển thị file \"pixel_importance.txt\", ở dòng cuối của code cell\n",
        "# bạn gõ: show_matrix('pixel_important.txt')\n",
        "def show_matrix(matrix_file):\n",
        "  m = np.loadtxt(matrix_file)\n",
        "  m = m + m.min()\n",
        "  m = m / m.max()\n",
        "  m = m * 255\n",
        "  m = m.astype(np.uint8)\n",
        "  return Image.fromarray(m)"
      ]
    },
    {
      "cell_type": "markdown",
      "metadata": {
        "id": "PyC8yHdSj67P"
      },
      "source": [
        "clone code from github:"
      ]
    },
    {
      "cell_type": "code",
      "execution_count": null,
      "metadata": {
        "id": "N_DSadKlj97d"
      },
      "outputs": [],
      "source": [
        "%cd /content\n",
        "!rm -rf cuda\n",
        "!git clone -b main https://github.com/drwpls/cuda.git"
      ]
    },
    {
      "cell_type": "markdown",
      "metadata": {
        "id": "UG15f7p5j_zj"
      },
      "source": [
        "Change working directory into Final folder:"
      ]
    },
    {
      "cell_type": "code",
      "execution_count": null,
      "metadata": {
        "id": "Pc7EUPm1kD_7"
      },
      "outputs": [],
      "source": [
        "%cd ./cuda/Final"
      ]
    },
    {
      "cell_type": "code",
      "execution_count": 1,
      "metadata": {
        "colab": {
          "base_uri": "https://localhost:8080/",
          "height": 529
        },
        "id": "cuF56gYOTbDD",
        "outputId": "66b73220-0557-4d4a-9e10-f117ba41a838"
      },
      "outputs": [
        {
          "ename": "NameError",
          "evalue": "name 'show_pnm' is not defined",
          "output_type": "error",
          "traceback": [
            "\u001b[1;31m---------------------------------------------------------------------------\u001b[0m",
            "\u001b[1;31mNameError\u001b[0m                                 Traceback (most recent call last)",
            "\u001b[1;32m~\\AppData\\Local\\Temp/ipykernel_15220/3465662829.py\u001b[0m in \u001b[0;36m<module>\u001b[1;34m\u001b[0m\n\u001b[1;32m----> 1\u001b[1;33m \u001b[0mshow_pnm\u001b[0m\u001b[1;33m(\u001b[0m\u001b[1;34m'./images/lena.pnm'\u001b[0m\u001b[1;33m)\u001b[0m\u001b[1;33m\u001b[0m\u001b[1;33m\u001b[0m\u001b[0m\n\u001b[0m",
            "\u001b[1;31mNameError\u001b[0m: name 'show_pnm' is not defined"
          ]
        }
      ],
      "source": [
        "show_pnm('./images/lena.pnm')"
      ]
    },
    {
      "cell_type": "markdown",
      "metadata": {
        "id": "QDANUNhmkGf7"
      },
      "source": [
        "Verify current working directory:"
      ]
    },
    {
      "cell_type": "code",
      "execution_count": null,
      "metadata": {
        "id": "3JjD-qu0kJEv"
      },
      "outputs": [],
      "source": [
        "out_dir = get_ipython().getoutput('pwd')\n",
        "assert out_dir[0] == '/content/cuda/Final'\n",
        "out_dir[0]"
      ]
    },
    {
      "cell_type": "code",
      "execution_count": null,
      "metadata": {},
      "outputs": [],
      "source": [
        "!ls"
      ]
    },
    {
      "cell_type": "code",
      "execution_count": null,
      "metadata": {},
      "outputs": [],
      "source": [
        "!nvcc -arch=sm_75 hostSeamCarving.cu -o hostSeamCarving"
      ]
    },
    {
      "cell_type": "code",
      "execution_count": null,
      "metadata": {},
      "outputs": [],
      "source": [
        "!./hostSeamCarving ./images/lena.pnm out.pnm"
      ]
    },
    {
      "cell_type": "code",
      "execution_count": null,
      "metadata": {},
      "outputs": [],
      "source": [
        "show_pnm('./out_host.pnm')\n"
      ]
    },
    {
      "cell_type": "code",
      "execution_count": null,
      "metadata": {},
      "outputs": [],
      "source": [
        "!nvcc -arch=sm_75 deviceSeamCarving.cu -o deviceSeamCarving"
      ]
    },
    {
      "cell_type": "code",
      "execution_count": null,
      "metadata": {},
      "outputs": [],
      "source": [
        "!./deviceSeamCarving ./images/lena.pnm out.pnm"
      ]
    },
    {
      "cell_type": "code",
      "execution_count": null,
      "metadata": {},
      "outputs": [],
      "source": [
        "show_pnm('./out_device1.pnm')"
      ]
    }
  ],
  "metadata": {
    "accelerator": "GPU",
    "colab": {
      "include_colab_link": true,
      "provenance": []
    },
    "kernelspec": {
      "display_name": "Python 3",
      "language": "python",
      "name": "python3"
    },
    "language_info": {
      "codemirror_mode": {
        "name": "ipython",
        "version": 3
      },
      "file_extension": ".py",
      "mimetype": "text/x-python",
      "name": "python",
      "nbconvert_exporter": "python",
      "pygments_lexer": "ipython3",
      "version": "3.10.0 (tags/v3.10.0:b494f59, Oct  4 2021, 19:00:18) [MSC v.1929 64 bit (AMD64)]"
    },
    "vscode": {
      "interpreter": {
        "hash": "f0bbc372b70bc35ad5a912cec94b2a533d52c2047f6f370a320fbe2689f67bd7"
      }
    }
  },
  "nbformat": 4,
  "nbformat_minor": 0
}
