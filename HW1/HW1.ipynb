{
  "nbformat": 4,
  "nbformat_minor": 0,
  "metadata": {
    "colab": {
      "provenance": [],
      "collapsed_sections": [],
      "include_colab_link": true
    },
    "kernelspec": {
      "name": "python3",
      "display_name": "Python 3"
    },
    "accelerator": "GPU"
  },
  "cells": [
    {
      "cell_type": "markdown",
      "metadata": {
        "id": "view-in-github",
        "colab_type": "text"
      },
      "source": [
        "<a href=\"https://colab.research.google.com/github/drwpls/cuda/blob/HW1/HW1/HW1.ipynb\" target=\"_parent\"><img src=\"https://colab.research.google.com/assets/colab-badge.svg\" alt=\"Open In Colab\"/></a>"
      ]
    },
    {
      "cell_type": "markdown",
      "metadata": {
        "id": "eGBgThS8q8k3"
      },
      "source": [
        "Họ tên: Phan Lộc Sơn\n",
        "\n",
        "MSSV: 19120033"
      ]
    },
    {
      "cell_type": "markdown",
      "metadata": {
        "id": "7qdrvDrCrnqz"
      },
      "source": [
        "# HW1: Giới thiệu CUDA"
      ]
    },
    {
      "cell_type": "markdown",
      "metadata": {
        "id": "VKXB0wA7yhq9"
      },
      "source": [
        "Với các GPU tương đối mới thì để biên dịch chỉ cần dùng câu lệnh: \\\n",
        "`nvcc tên-file.cu -o tên-file-chạy`\n",
        "\n",
        "Nhưng trên Colab mình thường lấy được GPU khá cũ là Tesla K80 với compute capability (phiên bản phần cứng) là 3.7; để biên dịch đúng với GPU khá cũ này thì bạn cần dùng câu lệnh: \\\n",
        "`nvcc -arch=sm_37 tên-file.cu -o tên-file-chạy` \\\n",
        "Trong đó, 37 chính là compute capability của GPU Tesla K80.\n",
        "\n",
        "Để phòng trường hợp khi làm bài bạn lấy được GPU có compute capability x.x nhưng khi chấm bài Thầy lại lấy được GPU có compute capability khác x.x, dưới đây mình sẽ có đoạn code Python để tự động lấy 2 con số ứng với compute capability của GPU và lưu vào 2 biến `major` và `minor`:\n"
      ]
    },
    {
      "cell_type": "code",
      "metadata": {
        "id": "bCkmnirl2xWF",
        "colab": {
          "base_uri": "https://localhost:8080/"
        },
        "outputId": "bc478abe-062c-4e45-e157-a13298d5d4f3"
      },
      "source": [
        "from numba import cuda\n",
        "major, minor = cuda.get_current_device().compute_capability\n",
        "print(f'GPU compute capability: {major}.{minor}')"
      ],
      "execution_count": 63,
      "outputs": [
        {
          "output_type": "stream",
          "name": "stdout",
          "text": [
            "GPU compute capability: 7.5\n"
          ]
        }
      ]
    },
    {
      "cell_type": "markdown",
      "metadata": {
        "id": "Tq1-pmi72yS6"
      },
      "source": [
        "Một khi đã chạy đoạn code Python ở trên, để biên dịch thì bạn sẽ dùng câu lệnh: \\\n",
        "`nvcc -arch=sm_{major}{minor} tên-file.cu -o tên-file-chạy`"
      ]
    },
    {
      "cell_type": "markdown",
      "metadata": {
        "id": "QkZaH7EE-ocN"
      },
      "source": [
        "Dưới đây, khi làm bài thì bạn có thể tùy ý thêm/xóa cell. Đừng xóa mấy cell có chữ của Thầy là được."
      ]
    },
    {
      "cell_type": "markdown",
      "metadata": {
        "id": "DH9lSjFfr3Kw"
      },
      "source": [
        "## Câu 1"
      ]
    },
    {
      "cell_type": "markdown",
      "source": [
        "Fetch code from github"
      ],
      "metadata": {
        "id": "HtFdZ_vsEuRp"
      }
    },
    {
      "cell_type": "code",
      "source": [
        "%cd /content\n",
        "!rm -rf cuda\n",
        "!git clone -b HW1 https://github.com/drwpls/cuda.git\n"
      ],
      "metadata": {
        "colab": {
          "base_uri": "https://localhost:8080/"
        },
        "id": "-HvH4tZcwCqj",
        "outputId": "26b0b873-4444-4629-d2cf-b51e384d3971"
      },
      "execution_count": 64,
      "outputs": [
        {
          "output_type": "stream",
          "name": "stdout",
          "text": [
            "/content\n",
            "Cloning into 'cuda'...\n",
            "remote: Enumerating objects: 24, done.\u001b[K\n",
            "remote: Counting objects: 100% (24/24), done.\u001b[K\n",
            "remote: Compressing objects: 100% (18/18), done.\u001b[K\n",
            "remote: Total 24 (delta 6), reused 18 (delta 4), pack-reused 0\u001b[K\n",
            "Unpacking objects: 100% (24/24), done.\n"
          ]
        }
      ]
    },
    {
      "cell_type": "code",
      "metadata": {
        "id": "NVFUj14OYUyy",
        "colab": {
          "base_uri": "https://localhost:8080/"
        },
        "outputId": "9128d1ca-9c50-403f-89e3-f767cab5edf8"
      },
      "source": [
        "%cd ./cuda/HW1"
      ],
      "execution_count": 65,
      "outputs": [
        {
          "output_type": "stream",
          "name": "stdout",
          "text": [
            "/content/cuda/HW1\n"
          ]
        }
      ]
    },
    {
      "cell_type": "markdown",
      "source": [
        "You can verify the working directory"
      ],
      "metadata": {
        "id": "0keHpOdrJsoK"
      }
    },
    {
      "cell_type": "code",
      "source": [
        "!pwd"
      ],
      "metadata": {
        "colab": {
          "base_uri": "https://localhost:8080/"
        },
        "id": "w1QQ2JswHqpN",
        "outputId": "c844ce0e-3ab8-4099-f9a5-e8fb4489ed45"
      },
      "execution_count": 66,
      "outputs": [
        {
          "output_type": "stream",
          "name": "stdout",
          "text": [
            "/content/cuda/HW1\n"
          ]
        }
      ]
    },
    {
      "cell_type": "markdown",
      "source": [
        "Now, compile HW1_P1.cu"
      ],
      "metadata": {
        "id": "b36ALvzPKUa3"
      }
    },
    {
      "cell_type": "code",
      "source": [
        "!nvcc -arch=sm_75 HW1_P1.cu -o P1"
      ],
      "metadata": {
        "id": "ma37s7JpKTzw"
      },
      "execution_count": 67,
      "outputs": []
    },
    {
      "cell_type": "markdown",
      "source": [
        "Blocksize 16x16"
      ],
      "metadata": {
        "id": "XZg06DMHK7l3"
      }
    },
    {
      "cell_type": "code",
      "source": [
        "!./P1 in.pnm out_received.pnm 16 16"
      ],
      "metadata": {
        "colab": {
          "base_uri": "https://localhost:8080/"
        },
        "id": "eF6TNmC7J3mZ",
        "outputId": "03274f0a-7f0c-48b0-d426-99ef46e3b76c"
      },
      "execution_count": 68,
      "outputs": [
        {
          "output_type": "stream",
          "name": "stdout",
          "text": [
            "Image size (width x height): 512 x 512\n",
            "\n",
            "Processing time (use host): 2.994176 ms\n",
            "\n",
            "GPU name: Tesla T4\n",
            "GPU compute capability: 7.5\n",
            "Processing time (use device): 0.956160 ms\n",
            "\n",
            "Error between device result and host result: 0.002674\n"
          ]
        }
      ]
    },
    {
      "cell_type": "markdown",
      "source": [
        "Blocksize 32x32"
      ],
      "metadata": {
        "id": "c78qGM15b7UE"
      }
    },
    {
      "cell_type": "code",
      "source": [
        "!./P1 in.pnm out_received.pnm 32 32"
      ],
      "metadata": {
        "colab": {
          "base_uri": "https://localhost:8080/"
        },
        "id": "WzhgMw3DLDWd",
        "outputId": "5e168e02-8230-4572-c88a-46804e1066fa"
      },
      "execution_count": 69,
      "outputs": [
        {
          "output_type": "stream",
          "name": "stdout",
          "text": [
            "Image size (width x height): 512 x 512\n",
            "\n",
            "Processing time (use host): 2.241728 ms\n",
            "\n",
            "GPU name: Tesla T4\n",
            "GPU compute capability: 7.5\n",
            "Processing time (use device): 0.831072 ms\n",
            "\n",
            "Error between device result and host result: 0.002674\n"
          ]
        }
      ]
    },
    {
      "cell_type": "markdown",
      "source": [
        "Blocksize 64x64, will raise error."
      ],
      "metadata": {
        "id": "bBZqmXQQb83b"
      }
    },
    {
      "cell_type": "code",
      "source": [
        "!./P1 in.pnm out_received.pnm 64 64"
      ],
      "metadata": {
        "colab": {
          "base_uri": "https://localhost:8080/"
        },
        "id": "6mFSQsyFLEb8",
        "outputId": "79051b1b-baf7-4a5c-ed9a-fcd216624295"
      },
      "execution_count": 70,
      "outputs": [
        {
          "output_type": "stream",
          "name": "stdout",
          "text": [
            "Image size (width x height): 512 x 512\n",
            "\n",
            "Processing time (use host): 2.223776 ms\n",
            "\n",
            "GPU name: Tesla T4\n",
            "GPU compute capability: 7.5\n",
            "Error: HW1_P1.cu:182, code: 9, reason: invalid configuration argument\n"
          ]
        }
      ]
    },
    {
      "cell_type": "markdown",
      "metadata": {
        "id": "XlycLWxberDO"
      },
      "source": [
        "## Câu 2"
      ]
    },
    {
      "cell_type": "markdown",
      "source": [
        "Compile P2 program"
      ],
      "metadata": {
        "id": "1MOTtuDONi3_"
      }
    },
    {
      "cell_type": "code",
      "source": [
        "!nvcc -arch=sm_75 HW1_P2.cu -o P2"
      ],
      "metadata": {
        "id": "R98UGGw8NkUa"
      },
      "execution_count": 71,
      "outputs": []
    },
    {
      "cell_type": "markdown",
      "source": [
        "Run on block size 16 x 16"
      ],
      "metadata": {
        "id": "2vg9-TrIcYeZ"
      }
    },
    {
      "cell_type": "code",
      "source": [
        "!./P2 in.pnm out_received.pnm out2_target.pnm 16 16"
      ],
      "metadata": {
        "colab": {
          "base_uri": "https://localhost:8080/"
        },
        "outputId": "53d48357-af66-4db3-cfd9-7e65506f65ab",
        "id": "hQEcKUf8NpCB"
      },
      "execution_count": 72,
      "outputs": [
        {
          "output_type": "stream",
          "name": "stdout",
          "text": [
            "Image size (width x height): 512 x 512\n",
            "\n",
            "Processing time (use host): 236.000702 ms\n",
            "Error: 0.000000\n",
            "\n",
            "GPU name: Tesla T4\n",
            "GPU compute capability: 7.5\n",
            "Processing time (use device): 1.535584 ms\n",
            "Error: 0.000703\n",
            "\n"
          ]
        }
      ]
    },
    {
      "cell_type": "markdown",
      "source": [
        "Blocksize 32 x 32"
      ],
      "metadata": {
        "id": "dsL4Bh0QcavT"
      }
    },
    {
      "cell_type": "code",
      "metadata": {
        "id": "gE-rY5TesEFe",
        "colab": {
          "base_uri": "https://localhost:8080/"
        },
        "outputId": "cd4e63f6-e765-4229-f602-e5e78953a395"
      },
      "source": [
        "!./P2 in.pnm out_received.pnm out2_target.pnm 32 32"
      ],
      "execution_count": 73,
      "outputs": [
        {
          "output_type": "stream",
          "name": "stdout",
          "text": [
            "Image size (width x height): 512 x 512\n",
            "\n",
            "Processing time (use host): 235.243805 ms\n",
            "Error: 0.000000\n",
            "\n",
            "GPU name: Tesla T4\n",
            "GPU compute capability: 7.5\n",
            "Processing time (use device): 1.653344 ms\n",
            "Error: 0.000703\n",
            "\n"
          ]
        }
      ]
    },
    {
      "cell_type": "markdown",
      "source": [
        "Blocksize 64 x 64"
      ],
      "metadata": {
        "id": "Rr0LqaeIccO-"
      }
    },
    {
      "cell_type": "code",
      "metadata": {
        "id": "GG1mOFWW7zlB",
        "colab": {
          "base_uri": "https://localhost:8080/"
        },
        "outputId": "8dcbcc25-7e18-407b-db4d-3e4298f4ebc7"
      },
      "source": [
        "!./P2 in.pnm out_received.pnm out2_target.pnm 64 64"
      ],
      "execution_count": 74,
      "outputs": [
        {
          "output_type": "stream",
          "name": "stdout",
          "text": [
            "Image size (width x height): 512 x 512\n",
            "\n",
            "Processing time (use host): 238.824646 ms\n",
            "Error: 0.000000\n",
            "\n",
            "GPU name: Tesla T4\n",
            "GPU compute capability: 7.5\n",
            "Error: HW1_P2.cu:216, code: 9, reason: invalid configuration argument\n"
          ]
        }
      ]
    }
  ]
}