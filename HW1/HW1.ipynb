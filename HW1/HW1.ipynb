{
  "nbformat": 4,
  "nbformat_minor": 0,
  "metadata": {
    "colab": {
      "provenance": [],
      "collapsed_sections": [],
      "include_colab_link": true
    },
    "kernelspec": {
      "name": "python3",
      "display_name": "Python 3"
    },
    "accelerator": "GPU"
  },
  "cells": [
    {
      "cell_type": "markdown",
      "metadata": {
        "id": "view-in-github",
        "colab_type": "text"
      },
      "source": [
        "<a href=\"https://colab.research.google.com/github/drwpls/cuda/blob/HW1/HW1/HW1.ipynb\" target=\"_parent\"><img src=\"https://colab.research.google.com/assets/colab-badge.svg\" alt=\"Open In Colab\"/></a>"
      ]
    },
    {
      "cell_type": "markdown",
      "metadata": {
        "id": "eGBgThS8q8k3"
      },
      "source": [
        "Họ tên: Phan Lộc Sơn\n",
        "\n",
        "MSSV: 19120033"
      ]
    },
    {
      "cell_type": "markdown",
      "metadata": {
        "id": "7qdrvDrCrnqz"
      },
      "source": [
        "# HW1: Giới thiệu CUDA"
      ]
    },
    {
      "cell_type": "markdown",
      "metadata": {
        "id": "VKXB0wA7yhq9"
      },
      "source": [
        "Với các GPU tương đối mới thì để biên dịch chỉ cần dùng câu lệnh: \\\n",
        "`nvcc tên-file.cu -o tên-file-chạy`\n",
        "\n",
        "Nhưng trên Colab mình thường lấy được GPU khá cũ là Tesla K80 với compute capability (phiên bản phần cứng) là 3.7; để biên dịch đúng với GPU khá cũ này thì bạn cần dùng câu lệnh: \\\n",
        "`nvcc -arch=sm_37 tên-file.cu -o tên-file-chạy` \\\n",
        "Trong đó, 37 chính là compute capability của GPU Tesla K80.\n",
        "\n",
        "Để phòng trường hợp khi làm bài bạn lấy được GPU có compute capability x.x nhưng khi chấm bài Thầy lại lấy được GPU có compute capability khác x.x, dưới đây mình sẽ có đoạn code Python để tự động lấy 2 con số ứng với compute capability của GPU và lưu vào 2 biến `major` và `minor`:\n"
      ]
    },
    {
      "cell_type": "code",
      "metadata": {
        "id": "bCkmnirl2xWF"
      },
      "source": [
        "from numba import cuda\n",
        "major, minor = cuda.get_current_device().compute_capability\n",
        "print(f'GPU compute capability: {major}.{minor}')"
      ],
      "execution_count": null,
      "outputs": []
    },
    {
      "cell_type": "markdown",
      "metadata": {
        "id": "Tq1-pmi72yS6"
      },
      "source": [
        "Một khi đã chạy đoạn code Python ở trên, để biên dịch thì bạn sẽ dùng câu lệnh: \\\n",
        "`nvcc -arch=sm_{major}{minor} tên-file.cu -o tên-file-chạy`"
      ]
    },
    {
      "cell_type": "markdown",
      "metadata": {
        "id": "QkZaH7EE-ocN"
      },
      "source": [
        "Dưới đây, khi làm bài thì bạn có thể tùy ý thêm/xóa cell. Đừng xóa mấy cell có chữ của Thầy là được."
      ]
    },
    {
      "cell_type": "markdown",
      "metadata": {
        "id": "DH9lSjFfr3Kw"
      },
      "source": [
        "## Câu 1"
      ]
    },
    {
      "cell_type": "markdown",
      "source": [
        "Fetch code from github"
      ],
      "metadata": {
        "id": "HtFdZ_vsEuRp"
      }
    },
    {
      "cell_type": "code",
      "source": [
        "%cd /content\n",
        "!rm -rf cuda\n",
        "!git clone -b HW1 https://github.com/drwpls/cuda.git\n"
      ],
      "metadata": {
        "id": "-HvH4tZcwCqj"
      },
      "execution_count": null,
      "outputs": []
    },
    {
      "cell_type": "code",
      "metadata": {
        "id": "NVFUj14OYUyy"
      },
      "source": [
        "%cd ./cuda/HW1"
      ],
      "execution_count": null,
      "outputs": []
    },
    {
      "cell_type": "markdown",
      "source": [
        "You can verify the working directory"
      ],
      "metadata": {
        "id": "0keHpOdrJsoK"
      }
    },
    {
      "cell_type": "code",
      "source": [
        "!pwd"
      ],
      "metadata": {
        "id": "w1QQ2JswHqpN"
      },
      "execution_count": null,
      "outputs": []
    },
    {
      "cell_type": "markdown",
      "source": [
        "Now, compile HW1_P1.cu"
      ],
      "metadata": {
        "id": "b36ALvzPKUa3"
      }
    },
    {
      "cell_type": "code",
      "source": [
        "!nvcc -arch=sm_75 HW1_P1.cu -o P1"
      ],
      "metadata": {
        "id": "ma37s7JpKTzw"
      },
      "execution_count": null,
      "outputs": []
    },
    {
      "cell_type": "markdown",
      "source": [
        "Blocksize 16x16"
      ],
      "metadata": {
        "id": "XZg06DMHK7l3"
      }
    },
    {
      "cell_type": "code",
      "source": [
        "!./P1 in.pnm out_received.pnm 16 16"
      ],
      "metadata": {
        "id": "eF6TNmC7J3mZ"
      },
      "execution_count": null,
      "outputs": []
    },
    {
      "cell_type": "markdown",
      "source": [
        "Blocksize 32x32"
      ],
      "metadata": {
        "id": "c78qGM15b7UE"
      }
    },
    {
      "cell_type": "code",
      "source": [
        "!./P1 in.pnm out_received.pnm 32 32"
      ],
      "metadata": {
        "id": "WzhgMw3DLDWd"
      },
      "execution_count": null,
      "outputs": []
    },
    {
      "cell_type": "markdown",
      "source": [
        "Blocksize 64x64, will raise error."
      ],
      "metadata": {
        "id": "bBZqmXQQb83b"
      }
    },
    {
      "cell_type": "code",
      "source": [
        "!./P1 in.pnm out_received.pnm 64 64"
      ],
      "metadata": {
        "id": "6mFSQsyFLEb8"
      },
      "execution_count": null,
      "outputs": []
    },
    {
      "cell_type": "markdown",
      "metadata": {
        "id": "XlycLWxberDO"
      },
      "source": [
        "## Câu 2"
      ]
    },
    {
      "cell_type": "markdown",
      "source": [
        "Compile P2 program"
      ],
      "metadata": {
        "id": "1MOTtuDONi3_"
      }
    },
    {
      "cell_type": "code",
      "source": [
        "!nvcc -arch=sm_75 HW1_P2.cu -o P2"
      ],
      "metadata": {
        "id": "R98UGGw8NkUa"
      },
      "execution_count": null,
      "outputs": []
    },
    {
      "cell_type": "markdown",
      "source": [
        "Run on block size 16 x 16"
      ],
      "metadata": {
        "id": "2vg9-TrIcYeZ"
      }
    },
    {
      "cell_type": "code",
      "source": [
        "!./P2 in.pnm out_received.pnm out2_target.pnm 16 16"
      ],
      "metadata": {
        "id": "hQEcKUf8NpCB"
      },
      "execution_count": null,
      "outputs": []
    },
    {
      "cell_type": "markdown",
      "source": [
        "Blocksize 32 x 32"
      ],
      "metadata": {
        "id": "dsL4Bh0QcavT"
      }
    },
    {
      "cell_type": "code",
      "metadata": {
        "id": "gE-rY5TesEFe"
      },
      "source": [
        "!./P2 in.pnm out_received.pnm out2_target.pnm 32 32"
      ],
      "execution_count": null,
      "outputs": []
    },
    {
      "cell_type": "markdown",
      "source": [
        "Blocksize 64 x 64"
      ],
      "metadata": {
        "id": "Rr0LqaeIccO-"
      }
    },
    {
      "cell_type": "code",
      "metadata": {
        "id": "GG1mOFWW7zlB"
      },
      "source": [
        "!./P2 in.pnm out_received.pnm out2_target.pnm 64 64"
      ],
      "execution_count": null,
      "outputs": []
    }
  ]
}