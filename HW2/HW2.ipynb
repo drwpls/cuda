{
  "nbformat": 4,
  "nbformat_minor": 0,
  "metadata": {
    "colab": {
      "name": "HW2.ipynb",
      "provenance": [],
      "collapsed_sections": [],
      "include_colab_link": true
    },
    "kernelspec": {
      "name": "python3",
      "display_name": "Python 3"
    },
    "accelerator": "GPU"
  },
  "cells": [
    {
      "cell_type": "markdown",
      "metadata": {
        "id": "view-in-github",
        "colab_type": "text"
      },
      "source": [
        "<a href=\"https://colab.research.google.com/github/drwpls/cuda/blob/HW2/HW2/HW2.ipynb\" target=\"_parent\"><img src=\"https://colab.research.google.com/assets/colab-badge.svg\" alt=\"Open In Colab\"/></a>"
      ]
    },
    {
      "cell_type": "markdown",
      "metadata": {
        "id": "eGBgThS8q8k3"
      },
      "source": [
        "Họ tên: Phan Lộc Sơn\n",
        "\n",
        "MSSV: 19120033"
      ]
    },
    {
      "cell_type": "markdown",
      "metadata": {
        "id": "7qdrvDrCrnqz"
      },
      "source": [
        "# HW2: Cách thực thi song song trong CUDA"
      ]
    },
    {
      "cell_type": "markdown",
      "metadata": {
        "id": "VKXB0wA7yhq9"
      },
      "source": [
        "Với các GPU tương đối mới thì để biên dịch chỉ cần dùng câu lệnh: \\\n",
        "`nvcc tên-file.cu -o tên-file-chạy`\n",
        "\n",
        "Nhưng trên Colab mình thường lấy được GPU khá cũ là Tesla K80 với compute capability (phiên bản phần cứng) là 3.7; để biên dịch đúng với GPU khá cũ này thì bạn cần dùng câu lệnh: \\\n",
        "`nvcc -arch=sm_37 tên-file.cu -o tên-file-chạy` \\\n",
        "Trong đó, 37 chính là compute capability của GPU Tesla K80.\n",
        "\n",
        "Để phòng trường hợp khi làm bài bạn lấy được GPU có compute capability x.x nhưng khi chấm bài Thầy lại lấy được GPU có compute capability khác x.x, dưới đây mình sẽ có đoạn code Python để tự động lấy 2 con số ứng với compute capability của GPU và lưu vào 2 biến `major` và `minor`:\n"
      ]
    },
    {
      "cell_type": "code",
      "metadata": {
        "id": "bCkmnirl2xWF",
        "outputId": "b23fd0f0-cc08-4f56-861d-3e60ce3e5de5",
        "colab": {
          "base_uri": "https://localhost:8080/"
        }
      },
      "source": [
        "from numba import cuda\n",
        "major, minor = cuda.get_current_device().compute_capability\n",
        "print(f'GPU compute capability: {major}.{minor}')"
      ],
      "execution_count": 2,
      "outputs": [
        {
          "output_type": "stream",
          "name": "stdout",
          "text": [
            "GPU compute capability: 7.5\n"
          ]
        }
      ]
    },
    {
      "cell_type": "markdown",
      "metadata": {
        "id": "Tq1-pmi72yS6"
      },
      "source": [
        "Một khi đã chạy đoạn code Python ở trên, để biên dịch thì bạn sẽ dùng câu lệnh: \\\n",
        "`nvcc -arch=sm_{major}{minor} tên-file.cu -o tên-file-chạy`"
      ]
    },
    {
      "cell_type": "markdown",
      "metadata": {
        "id": "2xCyT0o8Z7nj"
      },
      "source": [
        "Dưới đây, khi làm bài thì bạn có thể tùy ý thêm/xóa cell. Đừng xóa mấy cell có chữ của Thầy là được."
      ]
    },
    {
      "cell_type": "markdown",
      "source": [
        "Set up environments:"
      ],
      "metadata": {
        "id": "8mnDi4z1oTIt"
      }
    },
    {
      "cell_type": "code",
      "source": [
        "%cd /content\n",
        "!rm -rf cuda\n",
        "!git clone -b HW2 https://github.com/drwpls/cuda.git"
      ],
      "metadata": {
        "id": "eAv7N-xmoVd1",
        "outputId": "0f5d6fd0-d094-4cd1-94ab-1d38e387fd95",
        "colab": {
          "base_uri": "https://localhost:8080/"
        }
      },
      "execution_count": 3,
      "outputs": [
        {
          "output_type": "stream",
          "name": "stdout",
          "text": [
            "/content\n",
            "Cloning into 'cuda'...\n",
            "remote: Enumerating objects: 87, done.\u001b[K\n",
            "remote: Counting objects: 100% (87/87), done.\u001b[K\n",
            "remote: Compressing objects: 100% (77/77), done.\u001b[K\n",
            "remote: Total 87 (delta 31), reused 37 (delta 8), pack-reused 0\u001b[K\n",
            "Unpacking objects: 100% (87/87), done.\n"
          ]
        }
      ]
    },
    {
      "cell_type": "markdown",
      "source": [
        "Change working directory to HW2:"
      ],
      "metadata": {
        "id": "g-6DjFLyoc5W"
      }
    },
    {
      "cell_type": "code",
      "source": [
        "%cd ./cuda/HW2"
      ],
      "metadata": {
        "id": "0AdPBCmeofpZ",
        "outputId": "c87c4e19-1087-417b-ebf4-ab7f3d00650d",
        "colab": {
          "base_uri": "https://localhost:8080/"
        }
      },
      "execution_count": 4,
      "outputs": [
        {
          "output_type": "stream",
          "name": "stdout",
          "text": [
            "/content/cuda/HW2\n"
          ]
        }
      ]
    },
    {
      "cell_type": "markdown",
      "source": [
        "Verify the working directory before we start."
      ],
      "metadata": {
        "id": "fZXhAKl_oi6_"
      }
    },
    {
      "cell_type": "code",
      "source": [
        "!pwd"
      ],
      "metadata": {
        "id": "Tf5kVcNYon_b",
        "outputId": "8680cd4e-7f22-4e2b-ad74-92911d833abd",
        "colab": {
          "base_uri": "https://localhost:8080/"
        }
      },
      "execution_count": 5,
      "outputs": [
        {
          "output_type": "stream",
          "name": "stdout",
          "text": [
            "/content/cuda/HW2\n"
          ]
        }
      ]
    },
    {
      "cell_type": "markdown",
      "source": [
        "Compile HW2_P1.cu:"
      ],
      "metadata": {
        "id": "UTh2tL_Qotkk"
      }
    },
    {
      "cell_type": "markdown",
      "metadata": {
        "id": "DH9lSjFfr3Kw"
      },
      "source": [
        "## Câu 1A"
      ]
    },
    {
      "cell_type": "code",
      "source": [
        "!nvcc -arch=sm_{major}{minor} HW2_P1.cu -o HW2_P1"
      ],
      "metadata": {
        "id": "tDJwoJVLoqr6"
      },
      "execution_count": null,
      "outputs": []
    },
    {
      "cell_type": "code",
      "metadata": {
        "id": "aZNqZuECjNso",
        "outputId": "7e052876-8e20-44f0-8050-4cd29fc40fdb",
        "colab": {
          "base_uri": "https://localhost:8080/"
        }
      },
      "source": [
        "!./HW2_P1"
      ],
      "execution_count": null,
      "outputs": [
        {
          "output_type": "stream",
          "name": "stdout",
          "text": [
            "**********GPU info**********\n",
            "Name: Tesla T4\n",
            "Compute capability: 7.5\n",
            "Num SMs: 40\n",
            "Max num threads per SM: 1024\n",
            "Max num warps per SM: 32\n",
            "GMEM: 15843721216 bytes\n",
            "****************************\n",
            "\n",
            "Input size: 16777217\n",
            "\n",
            "Kernel 1\n",
            "Grid size: 16385, block size: 512\n",
            "Kernel time = 1.878880 ms, post-kernel time = 0.056704 ms\n",
            "CORRECT :)\n",
            "\n",
            "Kernel 2\n",
            "Grid size: 16385, block size: 512\n",
            "Kernel time = 1.960000 ms, post-kernel time = 0.054272 ms\n",
            "CORRECT :)\n",
            "\n",
            "Kernel 3\n",
            "Grid size: 16385, block size: 512\n",
            "Kernel time = 0.977536 ms, post-kernel time = 0.060000 ms\n",
            "CORRECT :)\n"
          ]
        }
      ]
    },
    {
      "cell_type": "markdown",
      "source": [
        "Nhận xét: Kernel time nhanh dần: kernel2 -> kernel1 -> kernel3.\n",
        "Kernel2 chậm hơn Kernel1 là vì trong khi gom các threads để giảm phân kì, kernel thực hiện phép nhân và phép chia trong vòng for của hàm.\n",
        "Hàm kernel3 nhanh nhất vì nó giảm được số wwarp phân kì và không có phép nhân hay chia nào trong hàm for mà chỉ có phép cộng."
      ],
      "metadata": {
        "id": "Rj3Eh9hB9t2a"
      }
    },
    {
      "cell_type": "markdown",
      "metadata": {
        "id": "M9wMWgeV--5b"
      },
      "source": [
        "## Câu 1B\n"
      ]
    },
    {
      "cell_type": "code",
      "metadata": {
        "id": "tMsckPIh_Ije",
        "outputId": "aa3638b4-2265-40ac-bf4a-8c3c700c2a42",
        "colab": {
          "base_uri": "https://localhost:8080/"
        }
      },
      "source": [
        "!./HW2_P1 1024"
      ],
      "execution_count": null,
      "outputs": [
        {
          "output_type": "stream",
          "name": "stdout",
          "text": [
            "**********GPU info**********\n",
            "Name: Tesla T4\n",
            "Compute capability: 7.5\n",
            "Num SMs: 40\n",
            "Max num threads per SM: 1024\n",
            "Max num warps per SM: 32\n",
            "GMEM: 15843721216 bytes\n",
            "****************************\n",
            "\n",
            "Input size: 16777217\n",
            "\n",
            "Kernel 1\n",
            "Grid size: 8193, block size: 1024\n",
            "Kernel time = 2.594688 ms, post-kernel time = 0.033664 ms\n",
            "CORRECT :)\n",
            "\n",
            "Kernel 2\n",
            "Grid size: 8193, block size: 1024\n",
            "Kernel time = 2.669216 ms, post-kernel time = 0.031296 ms\n",
            "CORRECT :)\n",
            "\n",
            "Kernel 3\n",
            "Grid size: 8193, block size: 1024\n",
            "Kernel time = 1.266208 ms, post-kernel time = 0.030816 ms\n",
            "CORRECT :)\n"
          ]
        }
      ]
    },
    {
      "cell_type": "code",
      "metadata": {
        "id": "ydvO00hC_JMW",
        "outputId": "bedd5dce-216e-44cf-f826-3d70cce1267b",
        "colab": {
          "base_uri": "https://localhost:8080/"
        }
      },
      "source": [
        "!./HW2_P1 512"
      ],
      "execution_count": null,
      "outputs": [
        {
          "output_type": "stream",
          "name": "stdout",
          "text": [
            "**********GPU info**********\n",
            "Name: Tesla T4\n",
            "Compute capability: 7.5\n",
            "Num SMs: 40\n",
            "Max num threads per SM: 1024\n",
            "Max num warps per SM: 32\n",
            "GMEM: 15843721216 bytes\n",
            "****************************\n",
            "\n",
            "Input size: 16777217\n",
            "\n",
            "Kernel 1\n",
            "Grid size: 16385, block size: 512\n",
            "Kernel time = 1.879168 ms, post-kernel time = 0.055904 ms\n",
            "CORRECT :)\n",
            "\n",
            "Kernel 2\n",
            "Grid size: 16385, block size: 512\n",
            "Kernel time = 1.961536 ms, post-kernel time = 0.049824 ms\n",
            "CORRECT :)\n",
            "\n",
            "Kernel 3\n",
            "Grid size: 16385, block size: 512\n",
            "Kernel time = 0.984416 ms, post-kernel time = 0.049984 ms\n",
            "CORRECT :)\n"
          ]
        }
      ]
    },
    {
      "cell_type": "code",
      "metadata": {
        "id": "OoxamhSa_Jjc",
        "outputId": "6fcba654-a534-4572-c2ee-b034b3b8487a",
        "colab": {
          "base_uri": "https://localhost:8080/"
        }
      },
      "source": [
        "!./HW2_P1 256"
      ],
      "execution_count": null,
      "outputs": [
        {
          "output_type": "stream",
          "name": "stdout",
          "text": [
            "**********GPU info**********\n",
            "Name: Tesla T4\n",
            "Compute capability: 7.5\n",
            "Num SMs: 40\n",
            "Max num threads per SM: 1024\n",
            "Max num warps per SM: 32\n",
            "GMEM: 15843721216 bytes\n",
            "****************************\n",
            "\n",
            "Input size: 16777217\n",
            "\n",
            "Kernel 1\n",
            "Grid size: 32769, block size: 256\n",
            "Kernel time = 1.538656 ms, post-kernel time = 0.091392 ms\n",
            "CORRECT :)\n",
            "\n",
            "Kernel 2\n",
            "Grid size: 32769, block size: 256\n",
            "Kernel time = 1.585824 ms, post-kernel time = 0.092512 ms\n",
            "CORRECT :)\n",
            "\n",
            "Kernel 3\n",
            "Grid size: 32769, block size: 256\n",
            "Kernel time = 0.848512 ms, post-kernel time = 0.091296 ms\n",
            "CORRECT :)\n"
          ]
        }
      ]
    },
    {
      "cell_type": "code",
      "metadata": {
        "id": "MF_Kjjqe_J3F",
        "outputId": "44b5a439-3737-4610-bbd1-7c0eb37a2e42",
        "colab": {
          "base_uri": "https://localhost:8080/"
        }
      },
      "source": [
        "!./HW2_P1 128"
      ],
      "execution_count": null,
      "outputs": [
        {
          "output_type": "stream",
          "name": "stdout",
          "text": [
            "**********GPU info**********\n",
            "Name: Tesla T4\n",
            "Compute capability: 7.5\n",
            "Num SMs: 40\n",
            "Max num threads per SM: 1024\n",
            "Max num warps per SM: 32\n",
            "GMEM: 15843721216 bytes\n",
            "****************************\n",
            "\n",
            "Input size: 16777217\n",
            "\n",
            "Kernel 1\n",
            "Grid size: 65537, block size: 128\n",
            "Kernel time = 1.328864 ms, post-kernel time = 0.174880 ms\n",
            "CORRECT :)\n",
            "\n",
            "Kernel 2\n",
            "Grid size: 65537, block size: 128\n",
            "Kernel time = 1.367072 ms, post-kernel time = 0.174624 ms\n",
            "CORRECT :)\n",
            "\n",
            "Kernel 3\n",
            "Grid size: 65537, block size: 128\n",
            "Kernel time = 0.734848 ms, post-kernel time = 0.173792 ms\n",
            "CORRECT :)\n"
          ]
        }
      ]
    },
    {
      "cell_type": "markdown",
      "metadata": {
        "id": "L9PXsn1C_L4L"
      },
      "source": [
        "Block size | Grid size | Num blocks / SM | Occupancy (%) | Kernel time (ms) | Post-kernel time (ms) | Total time (ms)\n",
        "--- | --- | --- | --- | --- | --- | ---\n",
        "1024 | 8193 | 1 | 100 | 2.594688 | 0.033664 | 2.628352\n",
        "512 | 16385 | 2 | 100 | 1.879168 | 0.055904 | 1.935072\n",
        "256 | 32769 | 4 | 100 | 1.538656 | 0.091392 | 1.630048\n",
        "128 | 65537 | 8 | 100 | 1.328864 | 0.174880 | 1.503744"
      ]
    },
    {
      "cell_type": "markdown",
      "metadata": {
        "id": "8c811YinAqrd"
      },
      "source": [
        "Nhận xét: Càng tăng số block/SM -> che đi độ trễ tính toán và tận dụng pipeline computing -> tăng tốc độ và giảm thời gian thực thi trong kernel time.\n",
        "Tuy nhiên, nêu như vậy thì số blok càng lớn -> sau đó host phải cộng các số này lại -> mảng kết quả các block càng lớn thì host càng phải tính nhiều -> post-kernel time càng lớn."
      ]
    },
    {
      "cell_type": "markdown",
      "metadata": {
        "id": "XlycLWxberDO"
      },
      "source": [
        "## Câu 2"
      ]
    },
    {
      "cell_type": "markdown",
      "source": [
        "Compile binary for Problem 2"
      ],
      "metadata": {
        "id": "A0K0RU1_KTit"
      }
    },
    {
      "cell_type": "code",
      "metadata": {
        "id": "GG1mOFWW7zlB"
      },
      "source": [
        "!nvcc -arch=sm_{major}{minor} HW2_P2.cu -o HW2_P2"
      ],
      "execution_count": 6,
      "outputs": []
    },
    {
      "cell_type": "markdown",
      "source": [
        "Run with nStreams = 1"
      ],
      "metadata": {
        "id": "OygYLXsHk094"
      }
    },
    {
      "cell_type": "code",
      "metadata": {
        "id": "vbDf8XqIGFW6",
        "outputId": "4012dbab-10b5-4349-de25-5b6b822cf04b",
        "colab": {
          "base_uri": "https://localhost:8080/"
        }
      },
      "source": [
        "!./HW2_P2 512 1"
      ],
      "execution_count": null,
      "outputs": [
        {
          "output_type": "stream",
          "name": "stdout",
          "text": [
            "n =  16777217\n",
            "\n",
            "GPU name: Tesla T4\n",
            "GPU compute capability: 7.5\n",
            "Processing time of all device streams: 20.288832 ms\n",
            "\n",
            "CORRECT :)\n"
          ]
        }
      ]
    },
    {
      "cell_type": "markdown",
      "source": [
        "Run with nStreams = 3"
      ],
      "metadata": {
        "id": "KxkzRcp9k_3M"
      }
    },
    {
      "cell_type": "code",
      "metadata": {
        "id": "3IfmucpNibmm",
        "outputId": "be22a527-9574-41e9-9274-2b95b2a59a84",
        "colab": {
          "base_uri": "https://localhost:8080/"
        }
      },
      "source": [
        "!./HW2_P2 512 3"
      ],
      "execution_count": 7,
      "outputs": [
        {
          "output_type": "stream",
          "name": "stdout",
          "text": [
            "n =  16777217\n",
            "\n",
            "GPU name: Tesla T4\n",
            "GPU compute capability: 7.5\n",
            "Processing time of all device streams: 13.670400 ms\n",
            "\n",
            "CORRECT :)\n"
          ]
        }
      ]
    },
    {
      "cell_type": "markdown",
      "metadata": {
        "id": "OwzjJVcZE2Yc"
      },
      "source": [
        "Run with nStreams = 1 and profiler"
      ]
    },
    {
      "cell_type": "code",
      "source": [
        "!nvprof -o nstreams1.nvvp -f ./HW2_P2 512 1"
      ],
      "metadata": {
        "id": "piHSa5B0lSQc",
        "outputId": "b562b832-7719-439c-a505-5f6f329858cd",
        "colab": {
          "base_uri": "https://localhost:8080/"
        }
      },
      "execution_count": null,
      "outputs": [
        {
          "output_type": "stream",
          "name": "stdout",
          "text": [
            "n =  16777217\n",
            "\n",
            "==1245== NVPROF is profiling process 1245, command: ./HW2_P2 512 1\n",
            "GPU name: Tesla T4\n",
            "GPU compute capability: 7.5\n",
            "Processing time of all device streams: 20.311712 ms\n",
            "\n",
            "CORRECT :)\n",
            "==1245== Generated result file: /content/cuda/HW2/nstreams1.nvvp\n"
          ]
        }
      ]
    },
    {
      "cell_type": "markdown",
      "source": [
        "Run with nStreams = 3 and profiler"
      ],
      "metadata": {
        "id": "eUr8AnecoIIf"
      }
    },
    {
      "cell_type": "code",
      "source": [
        "!nvprof -o nstreams3.nvvp -f ./HW2_P2 512 3"
      ],
      "metadata": {
        "id": "csT7pvNzlvVM",
        "outputId": "98144cbe-4aef-44f2-83a4-d5b1bf72a14d",
        "colab": {
          "base_uri": "https://localhost:8080/"
        }
      },
      "execution_count": null,
      "outputs": [
        {
          "output_type": "stream",
          "name": "stdout",
          "text": [
            "n =  16777217\n",
            "\n",
            "==1256== NVPROF is profiling process 1256, command: ./HW2_P2 512 3\n",
            "GPU name: Tesla T4\n",
            "GPU compute capability: 7.5\n",
            "Processing time of all device streams: 16.664831 ms\n",
            "\n",
            "CORRECT :)\n",
            "==1256== Generated result file: /content/cuda/HW2/nstreams3.nvvp\n"
          ]
        }
      ]
    },
    {
      "cell_type": "markdown",
      "source": [
        "View from NVIDIA Visual Profiler:\n",
        "nStreams = 1:\n",
        "![nstream1.png](data:image/png;base64,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)\n",
        "nStreams = 3:\n",
        "![nstream3.png](data:image/png;base64,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)"
      ],
      "metadata": {
        "id": "w63_7i2sq-pU"
      }
    }
  ]
}