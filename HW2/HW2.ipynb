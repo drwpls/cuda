{
  "nbformat": 4,
  "nbformat_minor": 0,
  "metadata": {
    "colab": {
      "name": "HW2.ipynb",
      "provenance": [],
      "collapsed_sections": [],
      "include_colab_link": true
    },
    "kernelspec": {
      "name": "python3",
      "display_name": "Python 3"
    },
    "accelerator": "GPU"
  },
  "cells": [
    {
      "cell_type": "markdown",
      "metadata": {
        "id": "view-in-github",
        "colab_type": "text"
      },
      "source": [
        "<a href=\"https://colab.research.google.com/github/drwpls/cuda/blob/HW2/HW2/HW2.ipynb\" target=\"_parent\"><img src=\"https://colab.research.google.com/assets/colab-badge.svg\" alt=\"Open In Colab\"/></a>"
      ]
    },
    {
      "cell_type": "markdown",
      "metadata": {
        "id": "eGBgThS8q8k3"
      },
      "source": [
        "Họ tên: Phan Lộc Sơn\n",
        "\n",
        "MSSV: 19120033"
      ]
    },
    {
      "cell_type": "markdown",
      "metadata": {
        "id": "7qdrvDrCrnqz"
      },
      "source": [
        "# HW2: Cách thực thi song song trong CUDA"
      ]
    },
    {
      "cell_type": "markdown",
      "metadata": {
        "id": "VKXB0wA7yhq9"
      },
      "source": [
        "Với các GPU tương đối mới thì để biên dịch chỉ cần dùng câu lệnh: \\\n",
        "`nvcc tên-file.cu -o tên-file-chạy`\n",
        "\n",
        "Nhưng trên Colab mình thường lấy được GPU khá cũ là Tesla K80 với compute capability (phiên bản phần cứng) là 3.7; để biên dịch đúng với GPU khá cũ này thì bạn cần dùng câu lệnh: \\\n",
        "`nvcc -arch=sm_37 tên-file.cu -o tên-file-chạy` \\\n",
        "Trong đó, 37 chính là compute capability của GPU Tesla K80.\n",
        "\n",
        "Để phòng trường hợp khi làm bài bạn lấy được GPU có compute capability x.x nhưng khi chấm bài Thầy lại lấy được GPU có compute capability khác x.x, dưới đây mình sẽ có đoạn code Python để tự động lấy 2 con số ứng với compute capability của GPU và lưu vào 2 biến `major` và `minor`:\n"
      ]
    },
    {
      "cell_type": "code",
      "metadata": {
        "id": "bCkmnirl2xWF",
        "outputId": "11b0f7d9-cfc1-4b71-8673-177e12b052d7",
        "colab": {
          "base_uri": "https://localhost:8080/"
        }
      },
      "source": [
        "from numba import cuda\n",
        "major, minor = cuda.get_current_device().compute_capability\n",
        "print(f'GPU compute capability: {major}.{minor}')"
      ],
      "execution_count": 1,
      "outputs": [
        {
          "output_type": "stream",
          "name": "stdout",
          "text": [
            "GPU compute capability: 7.5\n"
          ]
        }
      ]
    },
    {
      "cell_type": "markdown",
      "metadata": {
        "id": "Tq1-pmi72yS6"
      },
      "source": [
        "Một khi đã chạy đoạn code Python ở trên, để biên dịch thì bạn sẽ dùng câu lệnh: \\\n",
        "`nvcc -arch=sm_{major}{minor} tên-file.cu -o tên-file-chạy`"
      ]
    },
    {
      "cell_type": "markdown",
      "metadata": {
        "id": "2xCyT0o8Z7nj"
      },
      "source": [
        "Dưới đây, khi làm bài thì bạn có thể tùy ý thêm/xóa cell. Đừng xóa mấy cell có chữ của Thầy là được."
      ]
    },
    {
      "cell_type": "markdown",
      "source": [
        "Set up environments:"
      ],
      "metadata": {
        "id": "8mnDi4z1oTIt"
      }
    },
    {
      "cell_type": "code",
      "source": [
        "%cd /content\n",
        "!rm -rf cuda\n",
        "!git clone -b HW2 https://github.com/drwpls/cuda.git"
      ],
      "metadata": {
        "id": "eAv7N-xmoVd1",
        "outputId": "b337cc21-e040-4adc-98fd-03614cd8630a",
        "colab": {
          "base_uri": "https://localhost:8080/"
        }
      },
      "execution_count": 2,
      "outputs": [
        {
          "output_type": "stream",
          "name": "stdout",
          "text": [
            "/content\n",
            "Cloning into 'cuda'...\n",
            "remote: Enumerating objects: 65, done.\u001b[K\n",
            "remote: Counting objects: 100% (65/65), done.\u001b[K\n",
            "remote: Compressing objects: 100% (58/58), done.\u001b[K\n",
            "remote: Total 65 (delta 22), reused 27 (delta 5), pack-reused 0\u001b[K\n",
            "Unpacking objects: 100% (65/65), done.\n"
          ]
        }
      ]
    },
    {
      "cell_type": "markdown",
      "source": [
        "Change working directory to HW2:"
      ],
      "metadata": {
        "id": "g-6DjFLyoc5W"
      }
    },
    {
      "cell_type": "code",
      "source": [
        "%cd ./cuda/HW2"
      ],
      "metadata": {
        "id": "0AdPBCmeofpZ",
        "outputId": "a722e4ed-434a-45c6-8ce1-03b61cab1dff",
        "colab": {
          "base_uri": "https://localhost:8080/"
        }
      },
      "execution_count": 3,
      "outputs": [
        {
          "output_type": "stream",
          "name": "stdout",
          "text": [
            "/content/cuda/HW2\n"
          ]
        }
      ]
    },
    {
      "cell_type": "markdown",
      "source": [
        "Verify the working directory before we start."
      ],
      "metadata": {
        "id": "fZXhAKl_oi6_"
      }
    },
    {
      "cell_type": "code",
      "source": [
        "!pwd"
      ],
      "metadata": {
        "id": "Tf5kVcNYon_b",
        "outputId": "3ca9b158-4298-44f3-e08c-40948002f1f2",
        "colab": {
          "base_uri": "https://localhost:8080/"
        }
      },
      "execution_count": 4,
      "outputs": [
        {
          "output_type": "stream",
          "name": "stdout",
          "text": [
            "/content/cuda/HW2\n"
          ]
        }
      ]
    },
    {
      "cell_type": "markdown",
      "source": [
        "Compile HW2_P1.cu:"
      ],
      "metadata": {
        "id": "UTh2tL_Qotkk"
      }
    },
    {
      "cell_type": "code",
      "source": [
        "!nvcc -arch=sm_75 HW2_P1.cu -o HW2_P1"
      ],
      "metadata": {
        "id": "tDJwoJVLoqr6"
      },
      "execution_count": null,
      "outputs": []
    },
    {
      "cell_type": "markdown",
      "metadata": {
        "id": "DH9lSjFfr3Kw"
      },
      "source": [
        "## Câu 1A"
      ]
    },
    {
      "cell_type": "code",
      "metadata": {
        "id": "aZNqZuECjNso",
        "outputId": "7e052876-8e20-44f0-8050-4cd29fc40fdb",
        "colab": {
          "base_uri": "https://localhost:8080/"
        }
      },
      "source": [
        "!./HW2_P1"
      ],
      "execution_count": null,
      "outputs": [
        {
          "output_type": "stream",
          "name": "stdout",
          "text": [
            "**********GPU info**********\n",
            "Name: Tesla T4\n",
            "Compute capability: 7.5\n",
            "Num SMs: 40\n",
            "Max num threads per SM: 1024\n",
            "Max num warps per SM: 32\n",
            "GMEM: 15843721216 bytes\n",
            "****************************\n",
            "\n",
            "Input size: 16777217\n",
            "\n",
            "Kernel 1\n",
            "Grid size: 16385, block size: 512\n",
            "Kernel time = 1.878880 ms, post-kernel time = 0.056704 ms\n",
            "CORRECT :)\n",
            "\n",
            "Kernel 2\n",
            "Grid size: 16385, block size: 512\n",
            "Kernel time = 1.960000 ms, post-kernel time = 0.054272 ms\n",
            "CORRECT :)\n",
            "\n",
            "Kernel 3\n",
            "Grid size: 16385, block size: 512\n",
            "Kernel time = 0.977536 ms, post-kernel time = 0.060000 ms\n",
            "CORRECT :)\n"
          ]
        }
      ]
    },
    {
      "cell_type": "markdown",
      "source": [
        "Nhận xét: Kernel time nhanh dần: kernel2 -> kernel1 -> kernel3\n",
        "Kernel2 chậm hơn Kernel1 là vì trong khi gom các threads để giảm phân kì, kernel thực hiện phép nhân và phép chia trong vòng for của hàm.\n",
        "Hàm kernel nhanh nhất vì nó giảm được số wwarp phân kì và không có phép nhân hay chia nào trong hàm for mà chỉ có phép cộng."
      ],
      "metadata": {
        "id": "Rj3Eh9hB9t2a"
      }
    },
    {
      "cell_type": "markdown",
      "metadata": {
        "id": "M9wMWgeV--5b"
      },
      "source": [
        "## Câu 1B\n"
      ]
    },
    {
      "cell_type": "code",
      "metadata": {
        "id": "tMsckPIh_Ije",
        "outputId": "aa3638b4-2265-40ac-bf4a-8c3c700c2a42",
        "colab": {
          "base_uri": "https://localhost:8080/"
        }
      },
      "source": [
        "!./HW2_P1 1024"
      ],
      "execution_count": null,
      "outputs": [
        {
          "output_type": "stream",
          "name": "stdout",
          "text": [
            "**********GPU info**********\n",
            "Name: Tesla T4\n",
            "Compute capability: 7.5\n",
            "Num SMs: 40\n",
            "Max num threads per SM: 1024\n",
            "Max num warps per SM: 32\n",
            "GMEM: 15843721216 bytes\n",
            "****************************\n",
            "\n",
            "Input size: 16777217\n",
            "\n",
            "Kernel 1\n",
            "Grid size: 8193, block size: 1024\n",
            "Kernel time = 2.594688 ms, post-kernel time = 0.033664 ms\n",
            "CORRECT :)\n",
            "\n",
            "Kernel 2\n",
            "Grid size: 8193, block size: 1024\n",
            "Kernel time = 2.669216 ms, post-kernel time = 0.031296 ms\n",
            "CORRECT :)\n",
            "\n",
            "Kernel 3\n",
            "Grid size: 8193, block size: 1024\n",
            "Kernel time = 1.266208 ms, post-kernel time = 0.030816 ms\n",
            "CORRECT :)\n"
          ]
        }
      ]
    },
    {
      "cell_type": "code",
      "metadata": {
        "id": "ydvO00hC_JMW",
        "outputId": "bedd5dce-216e-44cf-f826-3d70cce1267b",
        "colab": {
          "base_uri": "https://localhost:8080/"
        }
      },
      "source": [
        "!./HW2_P1 512"
      ],
      "execution_count": null,
      "outputs": [
        {
          "output_type": "stream",
          "name": "stdout",
          "text": [
            "**********GPU info**********\n",
            "Name: Tesla T4\n",
            "Compute capability: 7.5\n",
            "Num SMs: 40\n",
            "Max num threads per SM: 1024\n",
            "Max num warps per SM: 32\n",
            "GMEM: 15843721216 bytes\n",
            "****************************\n",
            "\n",
            "Input size: 16777217\n",
            "\n",
            "Kernel 1\n",
            "Grid size: 16385, block size: 512\n",
            "Kernel time = 1.879168 ms, post-kernel time = 0.055904 ms\n",
            "CORRECT :)\n",
            "\n",
            "Kernel 2\n",
            "Grid size: 16385, block size: 512\n",
            "Kernel time = 1.961536 ms, post-kernel time = 0.049824 ms\n",
            "CORRECT :)\n",
            "\n",
            "Kernel 3\n",
            "Grid size: 16385, block size: 512\n",
            "Kernel time = 0.984416 ms, post-kernel time = 0.049984 ms\n",
            "CORRECT :)\n"
          ]
        }
      ]
    },
    {
      "cell_type": "code",
      "metadata": {
        "id": "OoxamhSa_Jjc",
        "outputId": "6fcba654-a534-4572-c2ee-b034b3b8487a",
        "colab": {
          "base_uri": "https://localhost:8080/"
        }
      },
      "source": [
        "!./HW2_P1 256"
      ],
      "execution_count": null,
      "outputs": [
        {
          "output_type": "stream",
          "name": "stdout",
          "text": [
            "**********GPU info**********\n",
            "Name: Tesla T4\n",
            "Compute capability: 7.5\n",
            "Num SMs: 40\n",
            "Max num threads per SM: 1024\n",
            "Max num warps per SM: 32\n",
            "GMEM: 15843721216 bytes\n",
            "****************************\n",
            "\n",
            "Input size: 16777217\n",
            "\n",
            "Kernel 1\n",
            "Grid size: 32769, block size: 256\n",
            "Kernel time = 1.538656 ms, post-kernel time = 0.091392 ms\n",
            "CORRECT :)\n",
            "\n",
            "Kernel 2\n",
            "Grid size: 32769, block size: 256\n",
            "Kernel time = 1.585824 ms, post-kernel time = 0.092512 ms\n",
            "CORRECT :)\n",
            "\n",
            "Kernel 3\n",
            "Grid size: 32769, block size: 256\n",
            "Kernel time = 0.848512 ms, post-kernel time = 0.091296 ms\n",
            "CORRECT :)\n"
          ]
        }
      ]
    },
    {
      "cell_type": "code",
      "metadata": {
        "id": "MF_Kjjqe_J3F",
        "outputId": "44b5a439-3737-4610-bbd1-7c0eb37a2e42",
        "colab": {
          "base_uri": "https://localhost:8080/"
        }
      },
      "source": [
        "!./HW2_P1 128"
      ],
      "execution_count": null,
      "outputs": [
        {
          "output_type": "stream",
          "name": "stdout",
          "text": [
            "**********GPU info**********\n",
            "Name: Tesla T4\n",
            "Compute capability: 7.5\n",
            "Num SMs: 40\n",
            "Max num threads per SM: 1024\n",
            "Max num warps per SM: 32\n",
            "GMEM: 15843721216 bytes\n",
            "****************************\n",
            "\n",
            "Input size: 16777217\n",
            "\n",
            "Kernel 1\n",
            "Grid size: 65537, block size: 128\n",
            "Kernel time = 1.328864 ms, post-kernel time = 0.174880 ms\n",
            "CORRECT :)\n",
            "\n",
            "Kernel 2\n",
            "Grid size: 65537, block size: 128\n",
            "Kernel time = 1.367072 ms, post-kernel time = 0.174624 ms\n",
            "CORRECT :)\n",
            "\n",
            "Kernel 3\n",
            "Grid size: 65537, block size: 128\n",
            "Kernel time = 0.734848 ms, post-kernel time = 0.173792 ms\n",
            "CORRECT :)\n"
          ]
        }
      ]
    },
    {
      "cell_type": "markdown",
      "metadata": {
        "id": "L9PXsn1C_L4L"
      },
      "source": [
        "Block size | Grid size | Num blocks / SM | Occupancy (%) | Kernel time (ms) | Post-kernel time (ms) | Total time (ms)\n",
        "--- | --- | --- | --- | --- | --- | ---\n",
        "1024 | 8193 | 1 | 100 | 2.594688 | 0.033664 | 2.628352\n",
        "512 | 16385 | 2 | 100 | 1.879168 | 0.055904 | 1.935072\n",
        "256 | 32769 | 4 | 100 | 1.538656 | 0.091392 | 1.630048\n",
        "128 | 65537 | 8 | 100 | 1.328864 | 0.174880 | 1.503744"
      ]
    },
    {
      "cell_type": "markdown",
      "metadata": {
        "id": "8c811YinAqrd"
      },
      "source": [
        "Nhận xét: Càng tăng số block/SM -> che đi độ trễ tính toán và tận dụng pipeline computing -> tăng tốc độ và giảm thời gian thực thi trong kernel time.\n",
        "Tuy nhiên, nêu như vậy thì số blok càng lớn -> sau đó host phải cộng các số này lại -> mảng kết quả các block càng lớn thì host càng phải tính nhiều -> post-kernel time càng lớn."
      ]
    },
    {
      "cell_type": "markdown",
      "metadata": {
        "id": "XlycLWxberDO"
      },
      "source": [
        "## Câu 2"
      ]
    },
    {
      "cell_type": "markdown",
      "source": [
        "Compile binary for Problem 2"
      ],
      "metadata": {
        "id": "A0K0RU1_KTit"
      }
    },
    {
      "cell_type": "code",
      "metadata": {
        "id": "GG1mOFWW7zlB"
      },
      "source": [
        "!nvcc HW2_P2.cu -o HW2_P2"
      ],
      "execution_count": 42,
      "outputs": []
    },
    {
      "cell_type": "markdown",
      "source": [
        "Run with nStreams = 1"
      ],
      "metadata": {
        "id": "OygYLXsHk094"
      }
    },
    {
      "cell_type": "code",
      "metadata": {
        "id": "vbDf8XqIGFW6",
        "outputId": "a58439e4-2158-46ba-963d-7168da37e516",
        "colab": {
          "base_uri": "https://localhost:8080/"
        }
      },
      "source": [
        "!./HW2_P2 512 1"
      ],
      "execution_count": 43,
      "outputs": [
        {
          "output_type": "stream",
          "name": "stdout",
          "text": [
            "n =  16777217\n",
            "\n",
            "GPU name: Tesla T4\n",
            "GPU compute capability: 7.5\n",
            "Processing time of all device streams: 17.468737 ms\n",
            "\n",
            "CORRECT :)\n"
          ]
        }
      ]
    },
    {
      "cell_type": "markdown",
      "source": [
        "Run with nStreams = 3"
      ],
      "metadata": {
        "id": "KxkzRcp9k_3M"
      }
    },
    {
      "cell_type": "code",
      "metadata": {
        "id": "3IfmucpNibmm",
        "outputId": "fe27490f-ff4b-4580-ee76-a94a37883727",
        "colab": {
          "base_uri": "https://localhost:8080/"
        }
      },
      "source": [
        "!./HW2_P2 512 1"
      ],
      "execution_count": 44,
      "outputs": [
        {
          "output_type": "stream",
          "name": "stdout",
          "text": [
            "n =  16777217\n",
            "\n",
            "GPU name: Tesla T4\n",
            "GPU compute capability: 7.5\n",
            "Processing time of all device streams: 17.753471 ms\n",
            "\n",
            "CORRECT :)\n"
          ]
        }
      ]
    },
    {
      "cell_type": "markdown",
      "metadata": {
        "id": "OwzjJVcZE2Yc"
      },
      "source": [
        "Run with nStreams = 1 and profiler"
      ]
    },
    {
      "cell_type": "code",
      "source": [
        "!nvprof -o nstreams1.nvvp -f ./HW2_P2 512 1"
      ],
      "metadata": {
        "id": "piHSa5B0lSQc",
        "outputId": "32ab050f-e8b2-4c7e-f8a6-5bb56c1df70f",
        "colab": {
          "base_uri": "https://localhost:8080/"
        }
      },
      "execution_count": 52,
      "outputs": [
        {
          "output_type": "stream",
          "name": "stdout",
          "text": [
            "n =  16777217\n",
            "\n",
            "==984== NVPROF is profiling process 984, command: ./HW2_P2 512 1\n",
            "GPU name: Tesla T4\n",
            "GPU compute capability: 7.5\n",
            "Processing time of all device streams: 17.971392 ms\n",
            "\n",
            "CORRECT :)\n",
            "==984== Generated result file: /content/cuda/HW2/nstreams1.nvvp\n"
          ]
        }
      ]
    },
    {
      "cell_type": "code",
      "source": [
        "!nvprof -o nstreams3.nvvp -f ./HW2_P2 512 3"
      ],
      "metadata": {
        "id": "csT7pvNzlvVM",
        "outputId": "5f4fa04c-95ce-4a4a-b18b-3b8ebee64565",
        "colab": {
          "base_uri": "https://localhost:8080/"
        }
      },
      "execution_count": 51,
      "outputs": [
        {
          "output_type": "stream",
          "name": "stdout",
          "text": [
            "n =  16777217\n",
            "\n",
            "==973== NVPROF is profiling process 973, command: ./HW2_P2 512 3\n",
            "GPU name: Tesla T4\n",
            "GPU compute capability: 7.5\n",
            "Processing time of all device streams: 18.163649 ms\n",
            "\n",
            "CORRECT :)\n",
            "==973== Generated result file: /content/cuda/HW2/nstreams3.nvvp\n"
          ]
        }
      ]
    }
  ]
}